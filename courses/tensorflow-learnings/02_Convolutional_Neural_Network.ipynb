{
 "cells": [
  {
   "cell_type": "markdown",
   "metadata": {},
   "source": [
    "# TensorFlow Tutorial #02"
   ]
  },
  {
   "cell_type": "markdown",
   "metadata": {},
   "source": [
    "## Introduction\n",
    "\n",
    "The previous tutorial showed that a simple linear model had about 88.48% classification accuracy for recognizing fashion images in the fashion data set. \n",
    "\n",
    "In this tutorial we will implement a simple Convolutional Neural Network in TensorFlow which has a classification accuracy of X, or more if you make some of the suggested exercises. \n",
    "\n",
    "Convolutional Networks work by moving small filters across the input image. This means the filters are re-used for recognizing patterns throughout the entire input image. This makes the Convolutional Networks much more powerful than Fully-Connected networks with the same number of variables. This in turn makes the Convolutional Networks faster to train. \n",
    "\n",
    "CNN is a deep, feed-forward neural network or also called MLP (multi-layer perceptrons). These are feed forward models because information flows right through the network. \n",
    "\n",
    "CNNs specifically are inspired by the biological visual cortex. The cortex has small regions of cells that are sensitive to the specific areas of the visual field. This idea was expanded by a captivating experiment done by Hubel and Wiesel in 1962 (if you want to know more, here's a video: https://www.youtube.com/watch?v=Cw5PKV9Rj3o). In this experiment, the researchers showed that some individual neurons in the brain activated or fired only in the presence of edges of a particular orientation like vertical or horizontal edges. For example, some neurons fired when exposed to vertical sides and some when shown a horizontal edge. Hubel and Wiesel found that all of these neurons were well ordered in a columnar fashion and that together they were able to produce visual perception. This idea of specialized components inside of a system having specific tasks is one that machines use as well and one that you can also find back in CNNs.\n",
    "\n",
    "Below image is about the CNN network and how the image moves as an input to the output, going through various phases like subsampling, convolutions. \n",
    "\n",
    "![Figure: Convolutional Neural Network from Wikimedia](images/wikimedia_cnn_image.png)"
   ]
  },
  {
   "cell_type": "markdown",
   "metadata": {},
   "source": [
    "### A bit about CNN concepts:\n",
    "\n",
    "1. What does a CNN do?\n",
    "\n",
    "Well, a convolution layer computes the output of neurons that are connected to local regions or receptive fields in the input, each computing a dot product between their weights and a small receptive field to which they are connected to in the input volume. \n",
    "\n",
    "Each computation leads to extraction of a feature map from the input image. \n",
    "\n",
    "Imagine that you have an image represented as a 5x5 matrix of values, and you take a 3x3 matrix and slide tht 3x3 window or kernel around the image. At each position of that matrix, you multiply the values of your 3x3 window by the values in the image that are currently being covered by the window. As a result, you'll get a single number that represents all the values in that window of the images. You use this layer to filtering: as the window moves over the image, you check for patterns in that section of the image. This works because of filters, which are multiplied by the values outputted by the convolution.\n",
    "\n",
    "2. Well, that's all and good. What about subsampling?\n",
    "\n",
    "The objective of subsampling is to get an input representation by reducing its dimensions, which helps in reducing overfitting. One of the techniques of subsampling is max pooling. With this technique, you select the highest pixel value from a region depending on its size. In other words, max pooling takes the largest value from the window of the image currently covered by the kernel. "
   ]
  },
  {
   "cell_type": "markdown",
   "metadata": {},
   "source": [
    "### Fashion-MNIST Data set\n",
    "\n",
    "Again, we would be using the Fashion MNIST data set from the previous tensorflow tutorial. \n",
    "\n",
    "The Fashion-MNIST dataset contains Zalando's article images, with 28x28 grayscale images of 65,000 fashion products from 10 categories, and 6,500 images per category. The training set has 55,000 images, and the test set has 10,000 images. "
   ]
  },
  {
   "cell_type": "markdown",
   "metadata": {},
   "source": [
    "#### Loading the data"
   ]
  },
  {
   "cell_type": "code",
   "execution_count": 15,
   "metadata": {},
   "outputs": [],
   "source": [
    "from keras.datasets import fashion_mnist\n",
    "\n",
    "(df_train_X, df_train_Y), (df_test_X, df_test_Y) = fashion_mnist.load_data()"
   ]
  },
  {
   "cell_type": "markdown",
   "metadata": {},
   "source": [
    "#### Lets Analyze the data set:"
   ]
  },
  {
   "cell_type": "code",
   "execution_count": 16,
   "metadata": {},
   "outputs": [
    {
     "name": "stdout",
     "output_type": "stream",
     "text": [
      "Training data shape:  (60000, 28, 28) (60000,)\n",
      "Testing data shape:  (10000, 28, 28) (10000,)\n"
     ]
    }
   ],
   "source": [
    "import numpy as np\n",
    "from keras.utils import to_categorical\n",
    "import matplotlib.pyplot as plt\n",
    "%matplotlib inline\n",
    "\n",
    "print('Training data shape: ', df_train_X.shape, df_train_Y.shape)\n",
    "print('Testing data shape: ', df_test_X.shape, df_test_Y.shape)"
   ]
  },
  {
   "cell_type": "markdown",
   "metadata": {},
   "source": [
    "From the above output, you can see that the training data has a shape of 60000 * 28 * 28 since there are 60,000 training samples each of 28 * 28 dimensions. "
   ]
  },
  {
   "cell_type": "code",
   "execution_count": 17,
   "metadata": {},
   "outputs": [
    {
     "name": "stdout",
     "output_type": "stream",
     "text": [
      "Total number of ouputs:  10\n",
      "Output classes:  [0 1 2 3 4 5 6 7 8 9]\n"
     ]
    }
   ],
   "source": [
    "# Find unique numbers from training labels:\n",
    "\n",
    "classes = np.unique(df_train_Y)\n",
    "nClasses = len(classes)\n",
    "\n",
    "print('Total number of ouputs: ', nClasses)\n",
    "print('Output classes: ', classes)"
   ]
  },
  {
   "cell_type": "markdown",
   "metadata": {},
   "source": [
    "There's also a total of ten output classes that range from 0 to 9."
   ]
  },
  {
   "cell_type": "code",
   "execution_count": 18,
   "metadata": {},
   "outputs": [
    {
     "data": {
      "text/plain": [
       "Text(0.5, 1.0, 'Ground Truth : 7')"
      ]
     },
     "execution_count": 18,
     "metadata": {},
     "output_type": "execute_result"
    },
    {
     "data": {
      "image/png": "[encoded data removed]",
      "text/plain": [
       "<Figure size 360x360 with 2 Axes>"
      ]
     },
     "metadata": {
      "needs_background": "light"
     },
     "output_type": "display_data"
    }
   ],
   "source": [
    "# Lets plot some images\n",
    "\n",
    "plt.figure(figsize=[5,5])\n",
    "\n",
    "plt.subplot(121)\n",
    "plt.imshow(df_train_X[0, :, :], cmap='gray')\n",
    "plt.title(\"Ground truth: {}\".format(df_train_Y[12]))\n",
    "\n",
    "plt.subplot(122)\n",
    "plt.imshow(df_test_X[0, :, :], cmap='gray')\n",
    "plt.title(\"Ground Truth : {}\".format(df_test_Y[12]))\n"
   ]
  },
  {
   "cell_type": "markdown",
   "metadata": {},
   "source": [
    "The output of above two plots looks like an ankle boot, and this class is assigned a class label of 9. Similarly, other fashion products will have different labels, but similar products will have same labels. This means that all the 7,000 ankle boot images will have a class label of 9."
   ]
  },
  {
   "cell_type": "markdown",
   "metadata": {},
   "source": [
    "#### Data Preprocessing\n",
    "\n",
    "As you can see, the images are grayscale images that have pixel values that range from 0 to 255. Also, these images have a dimension of 28 * 28. As a result, you'll need to preprocess the data before you feed it into the model. \n"
   ]
  },
  {
   "cell_type": "code",
   "execution_count": 19,
   "metadata": {},
   "outputs": [
    {
     "data": {
      "text/plain": [
       "((60000, 28, 28, 1), (10000, 28, 28, 1))"
      ]
     },
     "execution_count": 19,
     "metadata": {},
     "output_type": "execute_result"
    }
   ],
   "source": [
    "df_train_X = df_train_X.reshape(-1, 28, 28, 1)\n",
    "df_test_X  = df_test_X.reshape(-1, 28, 28, 1)\n",
    "\n",
    "df_train_X.shape, df_test_X.shape"
   ]
  },
  {
   "cell_type": "markdown",
   "metadata": {},
   "source": [
    "The data right now is in an int8 format, so before you feed it into the network you need to convert its type to float32, and you also have to rescale the pixel values in range 0 - 1 inclusive."
   ]
  },
  {
   "cell_type": "code",
   "execution_count": 20,
   "metadata": {},
   "outputs": [],
   "source": [
    "df_train_X = df_train_X.astype('float32')\n",
    "df_test_X  = df_test_X.astype('float32')\n",
    "\n",
    "df_train_X = df_train_X / 255\n",
    "df_test_X  = df_test_X / 255"
   ]
  },
  {
   "cell_type": "markdown",
   "metadata": {},
   "source": [
    "Next step is to convert class labels into integer values via one-hot encoding. It's a process of converting categorical data into numeric or vecot of numbers. \n",
    "\n",
    "For your problem statement, the one hot encoding will be a row vector, and for each image, it will have a dimension of 1 x 10. \n",
    "\n",
    "The important thing to note here is that the vector consists of all zeros except for the class that it represents, and for that, it is 1. \n",
    "\n",
    "For example, the ankle boot image that you plotted above has a label of 9, so for all the ankle boot images, the one hot encoding vector would be [0 0 0 0 0 0 0 0 1 0]."
   ]
  },
  {
   "cell_type": "code",
   "execution_count": 21,
   "metadata": {},
   "outputs": [
    {
     "name": "stdout",
     "output_type": "stream",
     "text": [
      "Original label:  5\n",
      "After conversion to one-hot:  [0. 0. 0. 0. 0. 1. 0. 0. 0. 0.]\n"
     ]
    }
   ],
   "source": [
    "# change the labels from categorical to one-hot encoding:\n",
    "df_train_Y_one_hot = to_categorical(df_train_Y)\n",
    "df_test_Y_one_hot  = to_categorical(df_test_Y)\n",
    "\n",
    "# display the change for category label\n",
    "print('Original label: ', df_train_Y[8])\n",
    "print('After conversion to one-hot: ', df_train_Y_one_hot[8])"
   ]
  },
  {
   "cell_type": "markdown",
   "metadata": {},
   "source": [
    "This last step is a crucial one. In machine learning or any data specific task, you should partition the data correctly. For the model to generalize well, you split the training data into two parts, one designed for training and another one for validation. In this case, you will train the model on 80\\% of the training data and validate it on 20\\% of the remaining training data. This will also help to reduce overfitting since you will be validating the model on the data it would not have seen in training phase, which will help in boosting the test performance."
   ]
  },
  {
   "cell_type": "code",
   "execution_count": 22,
   "metadata": {},
   "outputs": [],
   "source": [
    "from sklearn.model_selection import train_test_split\n",
    "\n",
    "df_train_X, df_valid_X, df_train_label, df_valid_label = train_test_split(df_train_X, \n",
    "                                                                          df_train_Y_one_hot, \n",
    "                                                                          test_size=0.2, \n",
    "                                                                          random_state=13)"
   ]
  },
  {
   "cell_type": "code",
   "execution_count": 23,
   "metadata": {},
   "outputs": [
    {
     "data": {
      "text/plain": [
       "((48000, 28, 28, 1), (12000, 28, 28, 1), (48000, 10), (12000, 10))"
      ]
     },
     "execution_count": 23,
     "metadata": {},
     "output_type": "execute_result"
    }
   ],
   "source": [
    "df_train_X.shape, df_valid_X.shape, df_train_label.shape, df_valid_label.shape"
   ]
  },
  {
   "cell_type": "markdown",
   "metadata": {},
   "source": [
    "#### Network Architecture\n",
    "\n",
    "You'll use three convolutional layers:\n",
    "\n",
    "- The first layer will have 32-3 x 3 filters,\n",
    "- The second layer will have 64-3 x 3 filters and\n",
    "- The third layer will have 128-3 x 3 filters.\n",
    "\n",
    "In addition, there are three max-pooling layers each of size 2 x 2."
   ]
  },
  {
   "cell_type": "markdown",
   "metadata": {},
   "source": [
    "![Figure: Convolutional Neural Network Architecture](images/architecture_cnn_01.png)"
   ]
  },
  {
   "cell_type": "markdown",
   "metadata": {},
   "source": [
    "#### Model the data"
   ]
  },
  {
   "cell_type": "code",
   "execution_count": 24,
   "metadata": {},
   "outputs": [],
   "source": [
    "import keras \n",
    "from keras.models import Sequential, Input, Model\n",
    "from keras.layers import Dense, Dropout, Flatten\n",
    "from keras.layers import Conv2D, MaxPooling2D\n",
    "\n",
    "from keras.layers.normalization import BatchNormalization\n",
    "from keras.layers.advanced_activations import LeakyReLU"
   ]
  },
  {
   "cell_type": "code",
   "execution_count": 26,
   "metadata": {},
   "outputs": [],
   "source": [
    "batch_size = 128\n",
    "epochs = 50\n",
    "num_classes = 10"
   ]
  },
  {
   "cell_type": "markdown",
   "metadata": {},
   "source": [
    "Let's take more about the architecture:\n",
    "\n",
    "1. First layer: Conv2D: \n",
    "\n",
    "    We are using this function because we are working with images.\n",
    "    \n",
    "    \n",
    "2. Second Layer: Leaky ReLU:\n",
    "\n",
    "    We are using leaky relu because we need a non-linear decision boundary that could separate our 10 classes which are not linearly separable. \n",
    "\n",
    "    More specifically, you add Leaky ReLUs because they attempt to fix the problem of dying Rectified Linear Units (ReLUs). The ReLU activation function is used a lot in neural network architectures and more specifically in convolutional networks, where it has proven to be more effective than the widely used logistic sigmoid function. \n",
    "\n",
    "    As of 2017, this activation function is the most popular one for deep neural networks. The ReLU function allows the activation to be thresholded at zero. However, during the training, ReLU units can \"die\". This can happen when a large gradient flows through a ReLU neuron: it can cause the weights to update in such a way that the neuron will never activate on any data point again. If this happens, then the gradient flowing through the unit will forever be zero from that point on. Leaky ReLUs attempt to solve this: the function will not be zero but will instead have a small negative slope.\n",
    "\n",
    "3. Third Layer: MaxPooling2D()\n",
    "\n",
    "4. The last layer is a Dense layer that has a softmax activation function with 10 units, which is needed for this multi-class classification problem.\n"
   ]
  },
  {
   "cell_type": "code",
   "execution_count": 27,
   "metadata": {},
   "outputs": [],
   "source": [
    "cnn_model = Sequential()\n",
    "cnn_model.add(Conv2D(32, \n",
    "                     kernel_size=(3,3), \n",
    "                     activation='linear', \n",
    "                     input_shape=(28,28,1),\n",
    "                     padding='same'))\n",
    "\n",
    "cnn_model.add(LeakyReLU(alpha=0.1))\n",
    "\n",
    "cnn_model.add(MaxPooling2D((2,2),padding='same'))\n",
    "\n",
    "cnn_model.add(Conv2D(64, (3,3), activation='linear',padding='same'))\n",
    "\n",
    "cnn_model.add(LeakyReLU(alpha=0.1))\n",
    "              \n",
    "cnn_model.add(MaxPooling2D(pool_size=(2,2),padding='same'))\n",
    "\n",
    "cnn_model.add(Conv2D(128, (3,3), activation='linear',padding='same'))\n",
    "\n",
    "cnn_model.add(LeakyReLU(alpha=0.1))\n",
    "\n",
    "cnn_model.add(MaxPooling2D(pool_size=(2,2),padding='same'))\n",
    "\n",
    "cnn_model.add(Flatten())\n",
    "\n",
    "cnn_model.add(Dense(128, activation='linear'))\n",
    "\n",
    "cnn_model.add(LeakyReLU(alpha=0.1))\n",
    "\n",
    "cnn_model.add(Dense(num_classes, activation='softmax'))\n"
   ]
  },
  {
   "cell_type": "markdown",
   "metadata": {},
   "source": [
    "#### Compile the model\n",
    "\n",
    "Optimizer used: Adam optimizer\n",
    "Loss type: Categorical Cross Entropy\n",
    "Metrics: Accuracy"
   ]
  },
  {
   "cell_type": "code",
   "execution_count": 29,
   "metadata": {},
   "outputs": [],
   "source": [
    "cnn_model.compile(loss=keras.losses.categorical_crossentropy, \n",
    "                  optimizer=keras.optimizers.Adam(),\n",
    "                  metrics=['accuracy'])"
   ]
  },
  {
   "cell_type": "code",
   "execution_count": 30,
   "metadata": {},
   "outputs": [
    {
     "name": "stdout",
     "output_type": "stream",
     "text": [
      "_________________________________________________________________\n",
      "Layer (type)                 Output Shape              Param #   \n",
      "=================================================================\n",
      "conv2d_1 (Conv2D)            (None, 28, 28, 32)        320       \n",
      "_________________________________________________________________\n",
      "leaky_re_lu_1 (LeakyReLU)    (None, 28, 28, 32)        0         \n",
      "_________________________________________________________________\n",
      "max_pooling2d_1 (MaxPooling2 (None, 14, 14, 32)        0         \n",
      "_________________________________________________________________\n",
      "conv2d_2 (Conv2D)            (None, 14, 14, 64)        18496     \n",
      "_________________________________________________________________\n",
      "leaky_re_lu_2 (LeakyReLU)    (None, 14, 14, 64)        0         \n",
      "_________________________________________________________________\n",
      "max_pooling2d_2 (MaxPooling2 (None, 7, 7, 64)          0         \n",
      "_________________________________________________________________\n",
      "conv2d_3 (Conv2D)            (None, 7, 7, 128)         73856     \n",
      "_________________________________________________________________\n",
      "leaky_re_lu_3 (LeakyReLU)    (None, 7, 7, 128)         0         \n",
      "_________________________________________________________________\n",
      "max_pooling2d_3 (MaxPooling2 (None, 4, 4, 128)         0         \n",
      "_________________________________________________________________\n",
      "flatten_1 (Flatten)          (None, 2048)              0         \n",
      "_________________________________________________________________\n",
      "dense_1 (Dense)              (None, 128)               262272    \n",
      "_________________________________________________________________\n",
      "leaky_re_lu_4 (LeakyReLU)    (None, 128)               0         \n",
      "_________________________________________________________________\n",
      "dense_2 (Dense)              (None, 10)                1290      \n",
      "=================================================================\n",
      "Total params: 356,234\n",
      "Trainable params: 356,234\n",
      "Non-trainable params: 0\n",
      "_________________________________________________________________\n"
     ]
    }
   ],
   "source": [
    "cnn_model.summary()"
   ]
  },
  {
   "cell_type": "markdown",
   "metadata": {},
   "source": [
    "#### Training the model"
   ]
  },
  {
   "cell_type": "code",
   "execution_count": 31,
   "metadata": {
    "scrolled": true
   },
   "outputs": [
    {
     "name": "stdout",
     "output_type": "stream",
     "text": [
      "Train on 48000 samples, validate on 12000 samples\n",
      "Epoch 1/50\n",
      "48000/48000 [==============================] - 5s 110us/step - loss: 0.5275 - acc: 0.8080 - val_loss: 0.3852 - val_acc: 0.8608\n",
      "Epoch 2/50\n",
      "48000/48000 [==============================] - 3s 57us/step - loss: 0.3222 - acc: 0.8848 - val_loss: 0.3140 - val_acc: 0.8862\n",
      "Epoch 3/50\n",
      "48000/48000 [==============================] - 3s 60us/step - loss: 0.2727 - acc: 0.9004 - val_loss: 0.2624 - val_acc: 0.9048\n",
      "Epoch 4/50\n",
      "48000/48000 [==============================] - 3s 61us/step - loss: 0.2361 - acc: 0.9142 - val_loss: 0.2522 - val_acc: 0.9094\n",
      "Epoch 5/50\n",
      "48000/48000 [==============================] - 3s 62us/step - loss: 0.2157 - acc: 0.9210 - val_loss: 0.2400 - val_acc: 0.9135\n",
      "Epoch 6/50\n",
      "48000/48000 [==============================] - 3s 58us/step - loss: 0.1944 - acc: 0.9291 - val_loss: 0.2408 - val_acc: 0.9136\n",
      "Epoch 7/50\n",
      "48000/48000 [==============================] - 3s 59us/step - loss: 0.1748 - acc: 0.9366 - val_loss: 0.2231 - val_acc: 0.9216\n",
      "Epoch 8/50\n",
      "48000/48000 [==============================] - 3s 58us/step - loss: 0.1571 - acc: 0.9416 - val_loss: 0.2257 - val_acc: 0.9207\n",
      "Epoch 9/50\n",
      "48000/48000 [==============================] - 3s 60us/step - loss: 0.1370 - acc: 0.9491 - val_loss: 0.2345 - val_acc: 0.9202\n",
      "Epoch 10/50\n",
      "48000/48000 [==============================] - 3s 57us/step - loss: 0.1244 - acc: 0.9532 - val_loss: 0.2343 - val_acc: 0.9225\n",
      "Epoch 11/50\n",
      "48000/48000 [==============================] - 3s 58us/step - loss: 0.1132 - acc: 0.9581 - val_loss: 0.2274 - val_acc: 0.9238\n",
      "Epoch 12/50\n",
      "48000/48000 [==============================] - 3s 57us/step - loss: 0.0967 - acc: 0.9639 - val_loss: 0.2666 - val_acc: 0.9145\n",
      "Epoch 13/50\n",
      "48000/48000 [==============================] - 3s 57us/step - loss: 0.0828 - acc: 0.9695 - val_loss: 0.2785 - val_acc: 0.9143\n",
      "Epoch 14/50\n",
      "48000/48000 [==============================] - 3s 58us/step - loss: 0.0718 - acc: 0.9731 - val_loss: 0.2646 - val_acc: 0.9195\n",
      "Epoch 15/50\n",
      "48000/48000 [==============================] - 3s 57us/step - loss: 0.0609 - acc: 0.9773 - val_loss: 0.3032 - val_acc: 0.9184\n",
      "Epoch 16/50\n",
      "48000/48000 [==============================] - 3s 57us/step - loss: 0.0563 - acc: 0.9787 - val_loss: 0.3080 - val_acc: 0.9205\n",
      "Epoch 17/50\n",
      "48000/48000 [==============================] - 3s 57us/step - loss: 0.0464 - acc: 0.9828 - val_loss: 0.3360 - val_acc: 0.9166\n",
      "Epoch 18/50\n",
      "48000/48000 [==============================] - 3s 56us/step - loss: 0.0387 - acc: 0.9857 - val_loss: 0.3441 - val_acc: 0.9198\n",
      "Epoch 19/50\n",
      "48000/48000 [==============================] - 3s 56us/step - loss: 0.0361 - acc: 0.9860 - val_loss: 0.3614 - val_acc: 0.9208\n",
      "Epoch 20/50\n",
      "48000/48000 [==============================] - 3s 57us/step - loss: 0.0369 - acc: 0.9867 - val_loss: 0.3504 - val_acc: 0.9211\n",
      "Epoch 21/50\n",
      "48000/48000 [==============================] - 3s 57us/step - loss: 0.0285 - acc: 0.9893 - val_loss: 0.3901 - val_acc: 0.9181\n",
      "Epoch 22/50\n",
      "48000/48000 [==============================] - 3s 57us/step - loss: 0.0305 - acc: 0.9886 - val_loss: 0.4050 - val_acc: 0.9202\n",
      "Epoch 23/50\n",
      "48000/48000 [==============================] - 3s 58us/step - loss: 0.0303 - acc: 0.9889 - val_loss: 0.4065 - val_acc: 0.9182\n",
      "Epoch 24/50\n",
      "48000/48000 [==============================] - 3s 58us/step - loss: 0.0226 - acc: 0.9914 - val_loss: 0.4086 - val_acc: 0.9208\n",
      "Epoch 25/50\n",
      "48000/48000 [==============================] - 3s 57us/step - loss: 0.0198 - acc: 0.9932 - val_loss: 0.4165 - val_acc: 0.9194\n",
      "Epoch 26/50\n",
      "48000/48000 [==============================] - 3s 57us/step - loss: 0.0259 - acc: 0.9906 - val_loss: 0.4294 - val_acc: 0.9195\n",
      "Epoch 27/50\n",
      "48000/48000 [==============================] - 3s 57us/step - loss: 0.0212 - acc: 0.9926 - val_loss: 0.4652 - val_acc: 0.9181\n",
      "Epoch 28/50\n",
      "48000/48000 [==============================] - 3s 59us/step - loss: 0.0213 - acc: 0.9921 - val_loss: 0.4597 - val_acc: 0.9187\n",
      "Epoch 29/50\n",
      "48000/48000 [==============================] - 3s 59us/step - loss: 0.0185 - acc: 0.9927 - val_loss: 0.4574 - val_acc: 0.9226\n",
      "Epoch 30/50\n",
      "48000/48000 [==============================] - 3s 57us/step - loss: 0.0216 - acc: 0.9923 - val_loss: 0.4789 - val_acc: 0.9208\n",
      "Epoch 31/50\n",
      "48000/48000 [==============================] - 3s 57us/step - loss: 0.0168 - acc: 0.9943 - val_loss: 0.4886 - val_acc: 0.9226\n",
      "Epoch 32/50\n",
      "48000/48000 [==============================] - 3s 57us/step - loss: 0.0195 - acc: 0.9928 - val_loss: 0.4798 - val_acc: 0.9212\n",
      "Epoch 33/50\n",
      "48000/48000 [==============================] - 3s 58us/step - loss: 0.0160 - acc: 0.9944 - val_loss: 0.5211 - val_acc: 0.9183\n",
      "Epoch 34/50\n",
      "48000/48000 [==============================] - 3s 58us/step - loss: 0.0118 - acc: 0.9957 - val_loss: 0.5367 - val_acc: 0.9201\n",
      "Epoch 35/50\n",
      "48000/48000 [==============================] - 3s 58us/step - loss: 0.0199 - acc: 0.9931 - val_loss: 0.4849 - val_acc: 0.9225\n",
      "Epoch 36/50\n",
      "48000/48000 [==============================] - 3s 57us/step - loss: 0.0186 - acc: 0.9933 - val_loss: 0.4986 - val_acc: 0.9204\n",
      "Epoch 37/50\n",
      "48000/48000 [==============================] - 3s 57us/step - loss: 0.0094 - acc: 0.9968 - val_loss: 0.5011 - val_acc: 0.9194\n",
      "Epoch 38/50\n",
      "48000/48000 [==============================] - 3s 58us/step - loss: 0.0183 - acc: 0.9935 - val_loss: 0.5035 - val_acc: 0.9203\n",
      "Epoch 39/50\n",
      "48000/48000 [==============================] - 3s 58us/step - loss: 0.0155 - acc: 0.9952 - val_loss: 0.5257 - val_acc: 0.9173\n",
      "Epoch 40/50\n",
      "48000/48000 [==============================] - 3s 57us/step - loss: 0.0185 - acc: 0.9936 - val_loss: 0.5045 - val_acc: 0.9218\n",
      "Epoch 41/50\n",
      "48000/48000 [==============================] - 3s 57us/step - loss: 0.0096 - acc: 0.9968 - val_loss: 0.5246 - val_acc: 0.9206\n",
      "Epoch 42/50\n",
      "48000/48000 [==============================] - 3s 57us/step - loss: 0.0145 - acc: 0.9950 - val_loss: 0.5302 - val_acc: 0.9152\n",
      "Epoch 43/50\n",
      "48000/48000 [==============================] - 3s 57us/step - loss: 0.0186 - acc: 0.9940 - val_loss: 0.5261 - val_acc: 0.9183\n",
      "Epoch 44/50\n",
      "48000/48000 [==============================] - 3s 59us/step - loss: 0.0121 - acc: 0.9958 - val_loss: 0.5186 - val_acc: 0.9219\n",
      "Epoch 45/50\n",
      "48000/48000 [==============================] - 3s 57us/step - loss: 0.0117 - acc: 0.9960 - val_loss: 0.5442 - val_acc: 0.9190\n",
      "Epoch 46/50\n",
      "48000/48000 [==============================] - 3s 58us/step - loss: 0.0138 - acc: 0.9959 - val_loss: 0.5607 - val_acc: 0.9218\n",
      "Epoch 47/50\n",
      "48000/48000 [==============================] - 3s 57us/step - loss: 0.0121 - acc: 0.9957 - val_loss: 0.5600 - val_acc: 0.9193\n",
      "Epoch 48/50\n",
      "48000/48000 [==============================] - 3s 58us/step - loss: 0.0155 - acc: 0.9945 - val_loss: 0.5888 - val_acc: 0.9174\n",
      "Epoch 49/50\n",
      "48000/48000 [==============================] - 3s 58us/step - loss: 0.0083 - acc: 0.9971 - val_loss: 0.6233 - val_acc: 0.9173\n",
      "Epoch 50/50\n",
      "48000/48000 [==============================] - 3s 58us/step - loss: 0.0084 - acc: 0.9973 - val_loss: 0.5788 - val_acc: 0.9188\n"
     ]
    }
   ],
   "source": [
    "cnn_train = cnn_model.fit(df_train_X,\n",
    "                         df_train_label,\n",
    "                         batch_size=batch_size,\n",
    "                         epochs=epochs,\n",
    "                         verbose=1,\n",
    "                         validation_data=(df_valid_X, df_valid_label))"
   ]
  },
  {
   "cell_type": "markdown",
   "metadata": {},
   "source": [
    "Finally! You trained the model on fashion-MNIST for 50 epochs, and by observing the training accuracy and loss, you can say that the model did a good job since after 50 epochs the training accuracy is 99.73% and the training loss is quite low."
   ]
  },
  {
   "cell_type": "markdown",
   "metadata": {},
   "source": [
    "However, it looks like the model is overfitting, as the validation loss is 0.5788 and the validation accuracy is 91.88%. \n",
    "\n",
    "Overfitting gives an intuition that the network has memorized the training data very well but is not guaranteed to work on unseen data, and that is why there is a difference in the training and validation accuracy."
   ]
  },
  {
   "cell_type": "markdown",
   "metadata": {},
   "source": [
    "You probably need to handle this. In next sections, you'll learn how you can make your model perform much better by adding a Dropout layer into the network and keeping all the other layers unchanged."
   ]
  },
  {
   "cell_type": "markdown",
   "metadata": {},
   "source": [
    "#### Model Evaluation:\n",
    "\n",
    "Lets evaluate our model over test data to see how it performs."
   ]
  },
  {
   "cell_type": "code",
   "execution_count": 32,
   "metadata": {},
   "outputs": [],
   "source": [
    "test_eval = cnn_model.evaluate(df_test_X, df_test_Y_one_hot, verbose=0)"
   ]
  },
  {
   "cell_type": "code",
   "execution_count": 33,
   "metadata": {},
   "outputs": [
    {
     "name": "stdout",
     "output_type": "stream",
     "text": [
      "Test loss: 0.5835507197014754\n",
      "Test accuracy: 0.9213\n"
     ]
    }
   ],
   "source": [
    "print('Test loss:', test_eval[0])\n",
    "print('Test accuracy:', test_eval[1])"
   ]
  },
  {
   "cell_type": "markdown",
   "metadata": {},
   "source": [
    "The test accuracy looks impressive. It turns out that your classifier does better than the benchmark that was reported, which is an SVM classifier with mean accuracy of 0.897. Also, the model does well compared to some of the deep learning models mentioned on the GitHub profile of the creators of fashion-MNIST dataset."
   ]
  },
  {
   "cell_type": "markdown",
   "metadata": {},
   "source": [
    "Let's put our model evaluation into plots of accuracy vs loss between training and validation data:"
   ]
  },
  {
   "cell_type": "code",
   "execution_count": 34,
   "metadata": {},
   "outputs": [
    {
     "data": {
      "image/png": "[encoded data removed]",
      "text/plain": [
       "<Figure size 432x288 with 1 Axes>"
      ]
     },
     "metadata": {
      "needs_background": "light"
     },
     "output_type": "display_data"
    },
    {
     "data": {
      "image/png": "[encoded data removed]",
      "text/plain": [
       "<Figure size 432x288 with 1 Axes>"
      ]
     },
     "metadata": {
      "needs_background": "light"
     },
     "output_type": "display_data"
    }
   ],
   "source": [
    "accuracy = cnn_train.history['acc']\n",
    "val_accuracy = cnn_train.history['val_acc']\n",
    "loss = cnn_train.history['loss']\n",
    "val_loss = cnn_train.history['val_loss']\n",
    "epochs = range(len(accuracy))\n",
    "\n",
    "plt.plot(epochs, accuracy, 'bo', label='Training accuracy')\n",
    "plt.plot(epochs, val_accuracy, 'b', label='Validation accuracy')\n",
    "plt.title('Training and validation accuracy')\n",
    "plt.legend()\n",
    "plt.figure()\n",
    "\n",
    "plt.plot(epochs, loss, 'bo', label='Training loss')\n",
    "plt.plot(epochs, val_loss, 'b', label='Validation loss')\n",
    "plt.title('Training and validation loss')\n",
    "plt.legend()\n",
    "\n",
    "plt.show()"
   ]
  },
  {
   "cell_type": "markdown",
   "metadata": {},
   "source": [
    "From the above two plots, you can see that the validation accuracy almost became stagnant after 4-5 epochs and rarely increased at certain epochs. In the beginning, the validation accuracy was linearly increasing with loss, but then it did not increase much.\n",
    "\n",
    "The validation loss shows that this is the sign of overfitting, similar to validation accuracy it linearly decreased but after 4-5 epochs, it started to increase. This means that the model tried to memorize the data and succeeded.\n",
    "\n",
    "With this in mind, it's time to introduce some dropout into our model and see if it helps in reducing overfitting."
   ]
  },
  {
   "cell_type": "markdown",
   "metadata": {},
   "source": [
    "#### Adding Dropout into the Network\n",
    "\n",
    "You can add a dropout layer to overcome the problem of overfitting to some extent. Dropout randomly turns off a fraction of neurons during the training process, reducing the dependency on the training set by some amount. How many fractions of neurons you want to turn off is decided by a hyperparameter, which can be tuned accordingly. This way, turning off some neurons will not allow the network to memorize the training data since not all the neurons will be active at the same time and the inactive neurons will not be able to learn anything."
   ]
  },
  {
   "cell_type": "markdown",
   "metadata": {},
   "source": [
    "So let's create, compile and train the network again but this time with dropout. And run it for 20 epochs with a batch size of 64."
   ]
  },
  {
   "cell_type": "code",
   "execution_count": 44,
   "metadata": {},
   "outputs": [],
   "source": [
    "batch_size = 64\n",
    "epochs = 50\n",
    "num_classes = 10"
   ]
  },
  {
   "cell_type": "code",
   "execution_count": 45,
   "metadata": {},
   "outputs": [],
   "source": [
    "cnn_model = Sequential()\n",
    "cnn_model.add(Conv2D(32, \n",
    "                     kernel_size=(3,3), \n",
    "                     activation='linear', \n",
    "                     input_shape=(28,28,1),\n",
    "                     padding='same'))\n",
    "\n",
    "cnn_model.add(LeakyReLU(alpha=0.1))\n",
    "\n",
    "cnn_model.add(MaxPooling2D((2,2),padding='same'))\n",
    "\n",
    "cnn_model.add(Dropout(0.25))\n",
    "\n",
    "cnn_model.add(Conv2D(64, (3,3), activation='linear',padding='same'))\n",
    "\n",
    "cnn_model.add(LeakyReLU(alpha=0.1))\n",
    "              \n",
    "cnn_model.add(MaxPooling2D(pool_size=(2,2),padding='same'))\n",
    "\n",
    "cnn_model.add(Dropout(0.25))\n",
    "\n",
    "cnn_model.add(Conv2D(128, (3,3), activation='linear',padding='same'))\n",
    "\n",
    "cnn_model.add(LeakyReLU(alpha=0.1))\n",
    "\n",
    "cnn_model.add(MaxPooling2D(pool_size=(2,2),padding='same'))\n",
    "\n",
    "cnn_model.add(Dropout(0.25))\n",
    "\n",
    "cnn_model.add(Flatten())\n",
    "\n",
    "cnn_model.add(Dense(128, activation='linear'))\n",
    "\n",
    "cnn_model.add(LeakyReLU(alpha=0.1))\n",
    "\n",
    "cnn_model.add(Dense(num_classes, activation='softmax'))"
   ]
  },
  {
   "cell_type": "code",
   "execution_count": 46,
   "metadata": {},
   "outputs": [
    {
     "name": "stdout",
     "output_type": "stream",
     "text": [
      "_________________________________________________________________\n",
      "Layer (type)                 Output Shape              Param #   \n",
      "=================================================================\n",
      "conv2d_7 (Conv2D)            (None, 28, 28, 32)        320       \n",
      "_________________________________________________________________\n",
      "leaky_re_lu_9 (LeakyReLU)    (None, 28, 28, 32)        0         \n",
      "_________________________________________________________________\n",
      "max_pooling2d_7 (MaxPooling2 (None, 14, 14, 32)        0         \n",
      "_________________________________________________________________\n",
      "dropout_4 (Dropout)          (None, 14, 14, 32)        0         \n",
      "_________________________________________________________________\n",
      "conv2d_8 (Conv2D)            (None, 14, 14, 64)        18496     \n",
      "_________________________________________________________________\n",
      "leaky_re_lu_10 (LeakyReLU)   (None, 14, 14, 64)        0         \n",
      "_________________________________________________________________\n",
      "max_pooling2d_8 (MaxPooling2 (None, 7, 7, 64)          0         \n",
      "_________________________________________________________________\n",
      "dropout_5 (Dropout)          (None, 7, 7, 64)          0         \n",
      "_________________________________________________________________\n",
      "conv2d_9 (Conv2D)            (None, 7, 7, 128)         73856     \n",
      "_________________________________________________________________\n",
      "leaky_re_lu_11 (LeakyReLU)   (None, 7, 7, 128)         0         \n",
      "_________________________________________________________________\n",
      "max_pooling2d_9 (MaxPooling2 (None, 4, 4, 128)         0         \n",
      "_________________________________________________________________\n",
      "dropout_6 (Dropout)          (None, 4, 4, 128)         0         \n",
      "_________________________________________________________________\n",
      "flatten_3 (Flatten)          (None, 2048)              0         \n",
      "_________________________________________________________________\n",
      "dense_5 (Dense)              (None, 128)               262272    \n",
      "_________________________________________________________________\n",
      "leaky_re_lu_12 (LeakyReLU)   (None, 128)               0         \n",
      "_________________________________________________________________\n",
      "dense_6 (Dense)              (None, 10)                1290      \n",
      "=================================================================\n",
      "Total params: 356,234\n",
      "Trainable params: 356,234\n",
      "Non-trainable params: 0\n",
      "_________________________________________________________________\n"
     ]
    }
   ],
   "source": [
    "cnn_model.summary()"
   ]
  },
  {
   "cell_type": "code",
   "execution_count": 47,
   "metadata": {},
   "outputs": [],
   "source": [
    "cnn_model.compile(loss=keras.losses.categorical_crossentropy, \n",
    "                  optimizer=keras.optimizers.Adam(),\n",
    "                  metrics=['accuracy'])"
   ]
  },
  {
   "cell_type": "code",
   "execution_count": 48,
   "metadata": {
    "scrolled": true
   },
   "outputs": [
    {
     "name": "stdout",
     "output_type": "stream",
     "text": [
      "Train on 48000 samples, validate on 12000 samples\n",
      "Epoch 1/50\n",
      "48000/48000 [==============================] - 5s 109us/step - loss: 0.5472 - acc: 0.7965 - val_loss: 0.3774 - val_acc: 0.8620\n",
      "Epoch 2/50\n",
      "48000/48000 [==============================] - 5s 99us/step - loss: 0.3454 - acc: 0.8720 - val_loss: 0.2985 - val_acc: 0.8912\n",
      "Epoch 3/50\n",
      "48000/48000 [==============================] - 5s 98us/step - loss: 0.2996 - acc: 0.8904 - val_loss: 0.2683 - val_acc: 0.9025\n",
      "Epoch 4/50\n",
      "48000/48000 [==============================] - 5s 97us/step - loss: 0.2706 - acc: 0.8988 - val_loss: 0.2778 - val_acc: 0.8997\n",
      "Epoch 5/50\n",
      "48000/48000 [==============================] - 5s 96us/step - loss: 0.2559 - acc: 0.9032 - val_loss: 0.2389 - val_acc: 0.9123\n",
      "Epoch 6/50\n",
      "48000/48000 [==============================] - 5s 96us/step - loss: 0.2354 - acc: 0.9108 - val_loss: 0.2358 - val_acc: 0.9139\n",
      "Epoch 7/50\n",
      "48000/48000 [==============================] - 5s 99us/step - loss: 0.2214 - acc: 0.9172 - val_loss: 0.2312 - val_acc: 0.9151\n",
      "Epoch 8/50\n",
      "48000/48000 [==============================] - 5s 98us/step - loss: 0.2155 - acc: 0.9176 - val_loss: 0.2192 - val_acc: 0.9189\n",
      "Epoch 9/50\n",
      "48000/48000 [==============================] - 5s 97us/step - loss: 0.2044 - acc: 0.9230 - val_loss: 0.2255 - val_acc: 0.9172\n",
      "Epoch 10/50\n",
      "48000/48000 [==============================] - 5s 98us/step - loss: 0.1927 - acc: 0.9266 - val_loss: 0.2213 - val_acc: 0.9222\n",
      "Epoch 11/50\n",
      "48000/48000 [==============================] - 5s 99us/step - loss: 0.1894 - acc: 0.9277 - val_loss: 0.2222 - val_acc: 0.9203\n",
      "Epoch 12/50\n",
      "48000/48000 [==============================] - 5s 98us/step - loss: 0.1810 - acc: 0.9308 - val_loss: 0.2157 - val_acc: 0.9244\n",
      "Epoch 13/50\n",
      "48000/48000 [==============================] - 5s 99us/step - loss: 0.1757 - acc: 0.9333 - val_loss: 0.2041 - val_acc: 0.9273\n",
      "Epoch 14/50\n",
      "48000/48000 [==============================] - 5s 98us/step - loss: 0.1699 - acc: 0.9351 - val_loss: 0.2307 - val_acc: 0.9238\n",
      "Epoch 15/50\n",
      "48000/48000 [==============================] - 5s 99us/step - loss: 0.1663 - acc: 0.9371 - val_loss: 0.2260 - val_acc: 0.9242\n",
      "Epoch 16/50\n",
      "48000/48000 [==============================] - 5s 97us/step - loss: 0.1588 - acc: 0.9389 - val_loss: 0.2224 - val_acc: 0.9258\n",
      "Epoch 17/50\n",
      "48000/48000 [==============================] - 5s 98us/step - loss: 0.1579 - acc: 0.9388 - val_loss: 0.2307 - val_acc: 0.9231\n",
      "Epoch 18/50\n",
      "48000/48000 [==============================] - 5s 100us/step - loss: 0.1511 - acc: 0.9426 - val_loss: 0.2195 - val_acc: 0.9231\n",
      "Epoch 19/50\n",
      "48000/48000 [==============================] - 5s 99us/step - loss: 0.1453 - acc: 0.9444 - val_loss: 0.2279 - val_acc: 0.9256\n",
      "Epoch 20/50\n",
      "48000/48000 [==============================] - 5s 97us/step - loss: 0.1414 - acc: 0.9454 - val_loss: 0.2298 - val_acc: 0.9242\n",
      "Epoch 21/50\n",
      "48000/48000 [==============================] - 5s 97us/step - loss: 0.1411 - acc: 0.9460 - val_loss: 0.2346 - val_acc: 0.9234\n",
      "Epoch 22/50\n",
      "48000/48000 [==============================] - 5s 99us/step - loss: 0.1351 - acc: 0.9470 - val_loss: 0.2323 - val_acc: 0.9269\n",
      "Epoch 23/50\n",
      "48000/48000 [==============================] - 5s 99us/step - loss: 0.1327 - acc: 0.9492 - val_loss: 0.2429 - val_acc: 0.9247\n",
      "Epoch 24/50\n",
      "48000/48000 [==============================] - 5s 98us/step - loss: 0.1333 - acc: 0.9488 - val_loss: 0.2358 - val_acc: 0.9291\n",
      "Epoch 25/50\n",
      "48000/48000 [==============================] - 5s 100us/step - loss: 0.1261 - acc: 0.9517 - val_loss: 0.2350 - val_acc: 0.9283\n",
      "Epoch 26/50\n",
      "48000/48000 [==============================] - 5s 99us/step - loss: 0.1247 - acc: 0.9516 - val_loss: 0.2292 - val_acc: 0.9301\n",
      "Epoch 27/50\n",
      "48000/48000 [==============================] - 5s 100us/step - loss: 0.1244 - acc: 0.9523 - val_loss: 0.2402 - val_acc: 0.9274\n",
      "Epoch 28/50\n",
      "48000/48000 [==============================] - 5s 99us/step - loss: 0.1211 - acc: 0.9533 - val_loss: 0.2429 - val_acc: 0.9268\n",
      "Epoch 29/50\n",
      "48000/48000 [==============================] - 5s 100us/step - loss: 0.1198 - acc: 0.9534 - val_loss: 0.2370 - val_acc: 0.9265\n",
      "Epoch 30/50\n",
      "48000/48000 [==============================] - 5s 99us/step - loss: 0.1163 - acc: 0.9551 - val_loss: 0.2463 - val_acc: 0.9254\n",
      "Epoch 31/50\n",
      "48000/48000 [==============================] - 5s 99us/step - loss: 0.1152 - acc: 0.9566 - val_loss: 0.2532 - val_acc: 0.9252\n",
      "Epoch 32/50\n",
      "48000/48000 [==============================] - 5s 100us/step - loss: 0.1138 - acc: 0.9570 - val_loss: 0.2570 - val_acc: 0.9268\n",
      "Epoch 33/50\n",
      "48000/48000 [==============================] - 5s 99us/step - loss: 0.1103 - acc: 0.9577 - val_loss: 0.2454 - val_acc: 0.9271\n",
      "Epoch 34/50\n",
      "48000/48000 [==============================] - 5s 101us/step - loss: 0.1087 - acc: 0.9579 - val_loss: 0.2558 - val_acc: 0.9285\n",
      "Epoch 35/50\n",
      "48000/48000 [==============================] - 5s 101us/step - loss: 0.1053 - acc: 0.9593 - val_loss: 0.2549 - val_acc: 0.9262\n",
      "Epoch 36/50\n",
      "48000/48000 [==============================] - 5s 100us/step - loss: 0.1066 - acc: 0.9597 - val_loss: 0.2517 - val_acc: 0.9241\n",
      "Epoch 37/50\n",
      "48000/48000 [==============================] - 5s 99us/step - loss: 0.1076 - acc: 0.9586 - val_loss: 0.2613 - val_acc: 0.9268\n",
      "Epoch 38/50\n",
      "48000/48000 [==============================] - 5s 99us/step - loss: 0.1035 - acc: 0.9602 - val_loss: 0.2470 - val_acc: 0.9284\n",
      "Epoch 39/50\n",
      "48000/48000 [==============================] - 5s 102us/step - loss: 0.1031 - acc: 0.9600 - val_loss: 0.2611 - val_acc: 0.9248\n",
      "Epoch 40/50\n",
      "48000/48000 [==============================] - 5s 99us/step - loss: 0.0991 - acc: 0.9620 - val_loss: 0.2614 - val_acc: 0.9258\n",
      "Epoch 41/50\n",
      "48000/48000 [==============================] - 5s 100us/step - loss: 0.1008 - acc: 0.9615 - val_loss: 0.2831 - val_acc: 0.9237\n",
      "Epoch 42/50\n",
      "48000/48000 [==============================] - 5s 100us/step - loss: 0.0984 - acc: 0.9622 - val_loss: 0.2671 - val_acc: 0.9285\n",
      "Epoch 43/50\n",
      "48000/48000 [==============================] - 5s 99us/step - loss: 0.0953 - acc: 0.9640 - val_loss: 0.2589 - val_acc: 0.9268\n",
      "Epoch 44/50\n",
      "48000/48000 [==============================] - 5s 99us/step - loss: 0.0980 - acc: 0.9625 - val_loss: 0.2747 - val_acc: 0.9253\n",
      "Epoch 45/50\n",
      "48000/48000 [==============================] - 5s 99us/step - loss: 0.0951 - acc: 0.9631 - val_loss: 0.2666 - val_acc: 0.9289\n",
      "Epoch 46/50\n",
      "48000/48000 [==============================] - 5s 100us/step - loss: 0.0914 - acc: 0.9653 - val_loss: 0.2736 - val_acc: 0.9274\n",
      "Epoch 47/50\n",
      "48000/48000 [==============================] - 5s 98us/step - loss: 0.0929 - acc: 0.9642 - val_loss: 0.2875 - val_acc: 0.9233\n",
      "Epoch 48/50\n",
      "48000/48000 [==============================] - 5s 101us/step - loss: 0.0930 - acc: 0.9649 - val_loss: 0.2886 - val_acc: 0.9273\n",
      "Epoch 49/50\n",
      "48000/48000 [==============================] - 5s 100us/step - loss: 0.0937 - acc: 0.9633 - val_loss: 0.2921 - val_acc: 0.9256\n",
      "Epoch 50/50\n",
      "48000/48000 [==============================] - 5s 100us/step - loss: 0.0903 - acc: 0.9660 - val_loss: 0.2719 - val_acc: 0.9263\n"
     ]
    }
   ],
   "source": [
    "cnn_train = cnn_model.fit(df_train_X,\n",
    "                         df_train_label,\n",
    "                         batch_size=batch_size,\n",
    "                         epochs=epochs,\n",
    "                         verbose=1,\n",
    "                         validation_data=(df_valid_X, df_valid_label))"
   ]
  },
  {
   "cell_type": "markdown",
   "metadata": {},
   "source": [
    "Let's save the model so that you can directly load it and not have to train it again for 20 epochs. This way, you can load the model later on if you need it and modify the architecture; Alternatively, you can start the training process on this saved model. It is always a good idea to save the model -and even the model's weights!- because it saves you time. Note that you can also save the model after every epoch so that, if some issue occurs that stops the training at an epoch, you will not have to start the training from the beginning."
   ]
  },
  {
   "cell_type": "code",
   "execution_count": 49,
   "metadata": {},
   "outputs": [],
   "source": [
    "cnn_model.save(\"fashion_model_dropout.h5py\")"
   ]
  },
  {
   "cell_type": "code",
   "execution_count": 50,
   "metadata": {},
   "outputs": [],
   "source": [
    "test_eval = cnn_model.evaluate(df_test_X, df_test_Y_one_hot, verbose=0)"
   ]
  },
  {
   "cell_type": "code",
   "execution_count": 51,
   "metadata": {},
   "outputs": [
    {
     "name": "stdout",
     "output_type": "stream",
     "text": [
      "Test loss: 0.28041836401447656\n",
      "Test accuracy: 0.9235\n"
     ]
    }
   ],
   "source": [
    "print('Test loss:', test_eval[0])\n",
    "print('Test accuracy:', test_eval[1])"
   ]
  },
  {
   "cell_type": "code",
   "execution_count": 52,
   "metadata": {},
   "outputs": [
    {
     "data": {
      "image/png": "[encoded data removed]",
      "text/plain": [
       "<Figure size 432x288 with 1 Axes>"
      ]
     },
     "metadata": {
      "needs_background": "light"
     },
     "output_type": "display_data"
    },
    {
     "data": {
      "image/png": "[encoded data removed]",
      "text/plain": [
       "<Figure size 432x288 with 1 Axes>"
      ]
     },
     "metadata": {
      "needs_background": "light"
     },
     "output_type": "display_data"
    }
   ],
   "source": [
    "accuracy = cnn_train.history['acc']\n",
    "val_accuracy = cnn_train.history['val_acc']\n",
    "loss = cnn_train.history['loss']\n",
    "val_loss = cnn_train.history['val_loss']\n",
    "epochs = range(len(accuracy))\n",
    "\n",
    "plt.plot(epochs, accuracy, 'bo', label='Training accuracy')\n",
    "plt.plot(epochs, val_accuracy, 'b', label='Validation accuracy')\n",
    "plt.title('Training and validation accuracy')\n",
    "plt.legend()\n",
    "plt.figure()\n",
    "\n",
    "plt.plot(epochs, loss, 'bo', label='Training loss')\n",
    "plt.plot(epochs, val_loss, 'b', label='Validation loss')\n",
    "plt.title('Training and validation loss')\n",
    "plt.legend()\n",
    "\n",
    "plt.show()"
   ]
  },
  {
   "cell_type": "markdown",
   "metadata": {},
   "source": [
    "Wow! Looks like adding Dropout in our model worked, even though the test accuracy did not improve significantly but the test loss decreased compared to the previous results.\n"
   ]
  },
  {
   "cell_type": "markdown",
   "metadata": {},
   "source": [
    "Therefore, you can say that your model's generalization capability became much better since the loss on both test set and validation set was only slightly more compared to the training loss."
   ]
  },
  {
   "cell_type": "markdown",
   "metadata": {},
   "source": [
    "#### Predict Labels\n",
    "\n",
    "Since the predictions you get are floating point values, it will not be feasible to compare the predicted labels with true test labels. So, you will round off the output which will convert the float values into an integer. Further, you will use np.argmax() to select the index number which has a higher value in a row."
   ]
  },
  {
   "cell_type": "code",
   "execution_count": 53,
   "metadata": {},
   "outputs": [],
   "source": [
    "predicted_classes = cnn_model.predict(df_test_X)"
   ]
  },
  {
   "cell_type": "code",
   "execution_count": 54,
   "metadata": {},
   "outputs": [],
   "source": [
    "predicted_classes = np.argmax(np.round(predicted_classes),axis=1)"
   ]
  },
  {
   "cell_type": "code",
   "execution_count": 55,
   "metadata": {},
   "outputs": [
    {
     "data": {
      "text/plain": [
       "((10000,), (10000, 28, 28, 1))"
      ]
     },
     "execution_count": 55,
     "metadata": {},
     "output_type": "execute_result"
    }
   ],
   "source": [
    "predicted_classes.shape, df_test_X.shape"
   ]
  },
  {
   "cell_type": "code",
   "execution_count": 57,
   "metadata": {},
   "outputs": [
    {
     "name": "stdout",
     "output_type": "stream",
     "text": [
      "Found 9230 correct labels\n"
     ]
    },
    {
     "data": {
      "image/png": "[encoded data removed]",
      "text/plain": [
       "<Figure size 432x288 with 9 Axes>"
      ]
     },
     "metadata": {
      "needs_background": "light"
     },
     "output_type": "display_data"
    }
   ],
   "source": [
    "correct = np.where(predicted_classes==df_test_Y)[0]\n",
    "print (\"Found %d correct labels\" % len(correct))\n",
    "\n",
    "for i, correct in enumerate(correct[:9]):\n",
    "    plt.subplot(3,3,i+1)\n",
    "    plt.imshow(df_test_X[correct].reshape(28,28), cmap='gray', interpolation='none')\n",
    "    plt.title(\"Predicted {}, Class {}\".format(predicted_classes[correct], df_test_Y[correct]))\n",
    "    plt.tight_layout()\n"
   ]
  },
  {
   "cell_type": "code",
   "execution_count": 58,
   "metadata": {},
   "outputs": [
    {
     "name": "stdout",
     "output_type": "stream",
     "text": [
      "Found 770 incorrect labels\n"
     ]
    },
    {
     "data": {
      "image/png": "[encoded data removed]",
      "text/plain": [
       "<Figure size 432x288 with 9 Axes>"
      ]
     },
     "metadata": {
      "needs_background": "light"
     },
     "output_type": "display_data"
    }
   ],
   "source": [
    "incorrect = np.where(predicted_classes!=df_test_Y)[0]\n",
    "print (\"Found %d incorrect labels\" % len(incorrect))\n",
    "\n",
    "for i, incorrect in enumerate(incorrect[:9]):\n",
    "    plt.subplot(3,3,i+1)\n",
    "    plt.imshow(df_test_X[incorrect].reshape(28,28), cmap='gray', interpolation='none')\n",
    "    plt.title(\"Predicted {}, Class {}\".format(predicted_classes[incorrect], df_test_Y[incorrect]))\n",
    "    plt.tight_layout()"
   ]
  },
  {
   "cell_type": "markdown",
   "metadata": {},
   "source": [
    "By looking at a few images, you cannot be sure as to why your model is not able to classify the above images correctly, but it seems like a variety of the similar patterns present on multiple classes affect the performance of the classifier although CNN is a robust architecture. For example, images 5 and 6 both belong to different classes but look kind of similar maybe a jacket or perhaps a long sleeve shirt."
   ]
  },
  {
   "cell_type": "markdown",
   "metadata": {},
   "source": [
    "### Classification Report\n",
    "\n",
    "Classification report will help us in identifying the misclassified classes in more detail. You will be able to observe for which class the model performed bad out of given ten classes. "
   ]
  },
  {
   "cell_type": "code",
   "execution_count": 59,
   "metadata": {},
   "outputs": [
    {
     "name": "stdout",
     "output_type": "stream",
     "text": [
      "              precision    recall  f1-score   support\n",
      "\n",
      "     Class 0       0.85      0.86      0.85      1000\n",
      "     Class 1       0.99      0.99      0.99      1000\n",
      "     Class 2       0.87      0.88      0.87      1000\n",
      "     Class 3       0.94      0.93      0.93      1000\n",
      "     Class 4       0.89      0.88      0.89      1000\n",
      "     Class 5       0.99      0.98      0.98      1000\n",
      "     Class 6       0.78      0.77      0.78      1000\n",
      "     Class 7       0.95      0.98      0.97      1000\n",
      "     Class 8       0.99      0.98      0.99      1000\n",
      "     Class 9       0.98      0.96      0.97      1000\n",
      "\n",
      "   micro avg       0.92      0.92      0.92     10000\n",
      "   macro avg       0.92      0.92      0.92     10000\n",
      "weighted avg       0.92      0.92      0.92     10000\n",
      "\n"
     ]
    }
   ],
   "source": [
    "from sklearn.metrics import classification_report\n",
    "\n",
    "target_names = [\"Class {}\".format(i) for i in range(num_classes)]\n",
    "\n",
    "print(classification_report(df_test_Y, \n",
    "                            predicted_classes, \n",
    "                            target_names=target_names))\n"
   ]
  },
  {
   "cell_type": "markdown",
   "metadata": {},
   "source": [
    "With this, I would close this tutorial, plesae find below the resources that I used to prepare this tutorial. All credit goes to original authors. \n",
    "\n",
    "Sources:\n",
    "1. https://www.datacamp.com/community/tutorials/convolutional-neural-networks-python\n",
    "2. https://github.com/Hvass-Labs/TensorFlow-Tutorials/blob/master/02_Convolutional_Neural_Network.ipynb"
   ]
  },
  {
   "cell_type": "code",
   "execution_count": null,
   "metadata": {},
   "outputs": [],
   "source": []
  }
 ],
 "metadata": {
  "kernelspec": {
   "display_name": "tensorflow_gpuenv",
   "language": "python",
   "name": "tensorflow_gpuenv"
  },
  "language_info": {
   "codemirror_mode": {
    "name": "ipython",
    "version": 3
   },
   "file_extension": ".py",
   "mimetype": "text/x-python",
   "name": "python",
   "nbconvert_exporter": "python",
   "pygments_lexer": "ipython3",
   "version": "3.6.7"
  }
 },
 "nbformat": 4,
 "nbformat_minor": 2
}
